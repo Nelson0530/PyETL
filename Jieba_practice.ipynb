{
 "cells": [
  {
   "cell_type": "code",
   "execution_count": 2,
   "id": "809d9e61",
   "metadata": {},
   "outputs": [
    {
     "name": "stdout",
     "output_type": "stream",
     "text": [
      "我 | 住 | 桃 | 園 | 八德 | ， | 我 | 來 | 自 | 台南 | ， | 目前 | 在 | 中 | 壢 | 上 | 課\n",
      "我住 | 桃園 | 八德 | ， | 我來 | 自 | 台南 | ， | 目前 | 在 | 中壢 | 上 | 課\n",
      "我住 | 桃園 | 八德 | ， | 我來 | 自 | 台南 | ， | 目前 | 在 | 中壢 | 上 | 課\n",
      "我住 | 桃園 | 八德 | ， | 我來 | 自 | 台南 | ， | 目前 | 在 | 中壢 | 上 | 課\n"
     ]
    }
   ],
   "source": [
    "import jieba\n",
    "\n",
    "a = \"我住桃園八德，我來自台南，目前在中壢上課\"\n",
    "c1 = jieba.cut(a, cut_all=True)\n",
    "c2 = jieba.cut(a, cut_all=False)\n",
    "c3 = jieba.cut(a)\n",
    "c4 = jieba.cut_for_search(a)\n",
    "\n",
    "print(\" | \".join(c1))\n",
    "print(\" | \".join(c2))\n",
    "print(\" | \".join(c3))\n",
    "print(\" | \".join(c4))\n",
    "\n"
   ]
  },
  {
   "cell_type": "code",
   "execution_count": 8,
   "id": "68e10619",
   "metadata": {},
   "outputs": [],
   "source": [
    "jieba.load_userdict('./mydict.txt')"
   ]
  },
  {
   "cell_type": "code",
   "execution_count": 14,
   "id": "96e40900",
   "metadata": {},
   "outputs": [
    {
     "name": "stdout",
     "output_type": "stream",
     "text": [
      "我 | 住 | 桃 | 園 | 八德 | ， | 我來自 | 台南 | ， | 目前 | 再 | 中 | 壢 | 上 | 大 | 數 | 據 | ， | 班\n",
      "我住 | 桃園 | 八德 | ， | 我來自 | 台南 | ， | 目前 | 再 | 中壢 | 上 | 大數據 | ， | 班\n",
      "我住 | 桃園 | 八德 | ， | 我來自 | 台南 | ， | 目前 | 再 | 中壢 | 上 | 大數據 | ， | 班\n",
      "我住 | 桃園 | 八德 | ， | 我來自 | 台南 | ， | 目前 | 再 | 中壢 | 上 | 大數據 | ， | 班\n"
     ]
    }
   ],
   "source": [
    "\n",
    "a = \"我住桃園八德，我來自台南，目前再中壢上大數據，班\"\n",
    "c1 = jieba.cut(a, cut_all=True)\n",
    "c2 = jieba.cut(a, cut_all=False)\n",
    "c3 = jieba.cut(a)\n",
    "c4 = jieba.cut_for_search(a)\n",
    "\n",
    "print(\" | \".join(c1))\n",
    "print(\" | \".join(c2))\n",
    "print(\" | \".join(c3))\n",
    "print(\" | \".join(c4))"
   ]
  },
  {
   "cell_type": "code",
   "execution_count": null,
   "id": "67823b3f",
   "metadata": {},
   "outputs": [],
   "source": []
  }
 ],
 "metadata": {
  "kernelspec": {
   "display_name": "Python 3 (ipykernel)",
   "language": "python",
   "name": "python3"
  },
  "language_info": {
   "codemirror_mode": {
    "name": "ipython",
    "version": 3
   },
   "file_extension": ".py",
   "mimetype": "text/x-python",
   "name": "python",
   "nbconvert_exporter": "python",
   "pygments_lexer": "ipython3",
   "version": "3.9.7"
  }
 },
 "nbformat": 4,
 "nbformat_minor": 5
}
